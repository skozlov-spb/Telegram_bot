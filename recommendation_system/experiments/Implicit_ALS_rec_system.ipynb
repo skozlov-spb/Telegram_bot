{
  "nbformat": 4,
  "nbformat_minor": 0,
  "metadata": {
    "colab": {
      "provenance": []
    },
    "kernelspec": {
      "name": "python3",
      "display_name": "Python 3"
    },
    "language_info": {
      "name": "python"
    },
    "widgets": {
      "application/vnd.jupyter.widget-state+json": {
        "da8bbc11e46f4391a6530051435351ea": {
          "model_module": "@jupyter-widgets/controls",
          "model_name": "HBoxModel",
          "model_module_version": "1.5.0",
          "state": {
            "_dom_classes": [],
            "_model_module": "@jupyter-widgets/controls",
            "_model_module_version": "1.5.0",
            "_model_name": "HBoxModel",
            "_view_count": null,
            "_view_module": "@jupyter-widgets/controls",
            "_view_module_version": "1.5.0",
            "_view_name": "HBoxView",
            "box_style": "",
            "children": [
              "IPY_MODEL_9192cd89c5b3467283101a99c4360063",
              "IPY_MODEL_6f9f4c85295642f7ac0e7a84fcd28ca1",
              "IPY_MODEL_e46c2cb405ed48fc9226861144aa5601"
            ],
            "layout": "IPY_MODEL_f3eb5f02a9d947b98b51a76ee6970b93"
          }
        },
        "9192cd89c5b3467283101a99c4360063": {
          "model_module": "@jupyter-widgets/controls",
          "model_name": "HTMLModel",
          "model_module_version": "1.5.0",
          "state": {
            "_dom_classes": [],
            "_model_module": "@jupyter-widgets/controls",
            "_model_module_version": "1.5.0",
            "_model_name": "HTMLModel",
            "_view_count": null,
            "_view_module": "@jupyter-widgets/controls",
            "_view_module_version": "1.5.0",
            "_view_name": "HTMLView",
            "description": "",
            "description_tooltip": null,
            "layout": "IPY_MODEL_822bf8b533a1466abe0ddb42edf8c5b3",
            "placeholder": "​",
            "style": "IPY_MODEL_c175333f4dfa47c4b81f79c9917d71b8",
            "value": "100%"
          }
        },
        "6f9f4c85295642f7ac0e7a84fcd28ca1": {
          "model_module": "@jupyter-widgets/controls",
          "model_name": "FloatProgressModel",
          "model_module_version": "1.5.0",
          "state": {
            "_dom_classes": [],
            "_model_module": "@jupyter-widgets/controls",
            "_model_module_version": "1.5.0",
            "_model_name": "FloatProgressModel",
            "_view_count": null,
            "_view_module": "@jupyter-widgets/controls",
            "_view_module_version": "1.5.0",
            "_view_name": "ProgressView",
            "bar_style": "success",
            "description": "",
            "description_tooltip": null,
            "layout": "IPY_MODEL_4d902b0139474073b6f162eecdb3667b",
            "max": 20,
            "min": 0,
            "orientation": "horizontal",
            "style": "IPY_MODEL_b3654a7088194448a81fe2500efb7d73",
            "value": 20
          }
        },
        "e46c2cb405ed48fc9226861144aa5601": {
          "model_module": "@jupyter-widgets/controls",
          "model_name": "HTMLModel",
          "model_module_version": "1.5.0",
          "state": {
            "_dom_classes": [],
            "_model_module": "@jupyter-widgets/controls",
            "_model_module_version": "1.5.0",
            "_model_name": "HTMLModel",
            "_view_count": null,
            "_view_module": "@jupyter-widgets/controls",
            "_view_module_version": "1.5.0",
            "_view_name": "HTMLView",
            "description": "",
            "description_tooltip": null,
            "layout": "IPY_MODEL_e53612939a404a66855093bbc3a3a1a4",
            "placeholder": "​",
            "style": "IPY_MODEL_d0e84ad704814740bdb900aafd65f079",
            "value": " 20/20 [00:00&lt;00:00, 18.17it/s]"
          }
        },
        "f3eb5f02a9d947b98b51a76ee6970b93": {
          "model_module": "@jupyter-widgets/base",
          "model_name": "LayoutModel",
          "model_module_version": "1.2.0",
          "state": {
            "_model_module": "@jupyter-widgets/base",
            "_model_module_version": "1.2.0",
            "_model_name": "LayoutModel",
            "_view_count": null,
            "_view_module": "@jupyter-widgets/base",
            "_view_module_version": "1.2.0",
            "_view_name": "LayoutView",
            "align_content": null,
            "align_items": null,
            "align_self": null,
            "border": null,
            "bottom": null,
            "display": null,
            "flex": null,
            "flex_flow": null,
            "grid_area": null,
            "grid_auto_columns": null,
            "grid_auto_flow": null,
            "grid_auto_rows": null,
            "grid_column": null,
            "grid_gap": null,
            "grid_row": null,
            "grid_template_areas": null,
            "grid_template_columns": null,
            "grid_template_rows": null,
            "height": null,
            "justify_content": null,
            "justify_items": null,
            "left": null,
            "margin": null,
            "max_height": null,
            "max_width": null,
            "min_height": null,
            "min_width": null,
            "object_fit": null,
            "object_position": null,
            "order": null,
            "overflow": null,
            "overflow_x": null,
            "overflow_y": null,
            "padding": null,
            "right": null,
            "top": null,
            "visibility": null,
            "width": null
          }
        },
        "822bf8b533a1466abe0ddb42edf8c5b3": {
          "model_module": "@jupyter-widgets/base",
          "model_name": "LayoutModel",
          "model_module_version": "1.2.0",
          "state": {
            "_model_module": "@jupyter-widgets/base",
            "_model_module_version": "1.2.0",
            "_model_name": "LayoutModel",
            "_view_count": null,
            "_view_module": "@jupyter-widgets/base",
            "_view_module_version": "1.2.0",
            "_view_name": "LayoutView",
            "align_content": null,
            "align_items": null,
            "align_self": null,
            "border": null,
            "bottom": null,
            "display": null,
            "flex": null,
            "flex_flow": null,
            "grid_area": null,
            "grid_auto_columns": null,
            "grid_auto_flow": null,
            "grid_auto_rows": null,
            "grid_column": null,
            "grid_gap": null,
            "grid_row": null,
            "grid_template_areas": null,
            "grid_template_columns": null,
            "grid_template_rows": null,
            "height": null,
            "justify_content": null,
            "justify_items": null,
            "left": null,
            "margin": null,
            "max_height": null,
            "max_width": null,
            "min_height": null,
            "min_width": null,
            "object_fit": null,
            "object_position": null,
            "order": null,
            "overflow": null,
            "overflow_x": null,
            "overflow_y": null,
            "padding": null,
            "right": null,
            "top": null,
            "visibility": null,
            "width": null
          }
        },
        "c175333f4dfa47c4b81f79c9917d71b8": {
          "model_module": "@jupyter-widgets/controls",
          "model_name": "DescriptionStyleModel",
          "model_module_version": "1.5.0",
          "state": {
            "_model_module": "@jupyter-widgets/controls",
            "_model_module_version": "1.5.0",
            "_model_name": "DescriptionStyleModel",
            "_view_count": null,
            "_view_module": "@jupyter-widgets/base",
            "_view_module_version": "1.2.0",
            "_view_name": "StyleView",
            "description_width": ""
          }
        },
        "4d902b0139474073b6f162eecdb3667b": {
          "model_module": "@jupyter-widgets/base",
          "model_name": "LayoutModel",
          "model_module_version": "1.2.0",
          "state": {
            "_model_module": "@jupyter-widgets/base",
            "_model_module_version": "1.2.0",
            "_model_name": "LayoutModel",
            "_view_count": null,
            "_view_module": "@jupyter-widgets/base",
            "_view_module_version": "1.2.0",
            "_view_name": "LayoutView",
            "align_content": null,
            "align_items": null,
            "align_self": null,
            "border": null,
            "bottom": null,
            "display": null,
            "flex": null,
            "flex_flow": null,
            "grid_area": null,
            "grid_auto_columns": null,
            "grid_auto_flow": null,
            "grid_auto_rows": null,
            "grid_column": null,
            "grid_gap": null,
            "grid_row": null,
            "grid_template_areas": null,
            "grid_template_columns": null,
            "grid_template_rows": null,
            "height": null,
            "justify_content": null,
            "justify_items": null,
            "left": null,
            "margin": null,
            "max_height": null,
            "max_width": null,
            "min_height": null,
            "min_width": null,
            "object_fit": null,
            "object_position": null,
            "order": null,
            "overflow": null,
            "overflow_x": null,
            "overflow_y": null,
            "padding": null,
            "right": null,
            "top": null,
            "visibility": null,
            "width": null
          }
        },
        "b3654a7088194448a81fe2500efb7d73": {
          "model_module": "@jupyter-widgets/controls",
          "model_name": "ProgressStyleModel",
          "model_module_version": "1.5.0",
          "state": {
            "_model_module": "@jupyter-widgets/controls",
            "_model_module_version": "1.5.0",
            "_model_name": "ProgressStyleModel",
            "_view_count": null,
            "_view_module": "@jupyter-widgets/base",
            "_view_module_version": "1.2.0",
            "_view_name": "StyleView",
            "bar_color": null,
            "description_width": ""
          }
        },
        "e53612939a404a66855093bbc3a3a1a4": {
          "model_module": "@jupyter-widgets/base",
          "model_name": "LayoutModel",
          "model_module_version": "1.2.0",
          "state": {
            "_model_module": "@jupyter-widgets/base",
            "_model_module_version": "1.2.0",
            "_model_name": "LayoutModel",
            "_view_count": null,
            "_view_module": "@jupyter-widgets/base",
            "_view_module_version": "1.2.0",
            "_view_name": "LayoutView",
            "align_content": null,
            "align_items": null,
            "align_self": null,
            "border": null,
            "bottom": null,
            "display": null,
            "flex": null,
            "flex_flow": null,
            "grid_area": null,
            "grid_auto_columns": null,
            "grid_auto_flow": null,
            "grid_auto_rows": null,
            "grid_column": null,
            "grid_gap": null,
            "grid_row": null,
            "grid_template_areas": null,
            "grid_template_columns": null,
            "grid_template_rows": null,
            "height": null,
            "justify_content": null,
            "justify_items": null,
            "left": null,
            "margin": null,
            "max_height": null,
            "max_width": null,
            "min_height": null,
            "min_width": null,
            "object_fit": null,
            "object_position": null,
            "order": null,
            "overflow": null,
            "overflow_x": null,
            "overflow_y": null,
            "padding": null,
            "right": null,
            "top": null,
            "visibility": null,
            "width": null
          }
        },
        "d0e84ad704814740bdb900aafd65f079": {
          "model_module": "@jupyter-widgets/controls",
          "model_name": "DescriptionStyleModel",
          "model_module_version": "1.5.0",
          "state": {
            "_model_module": "@jupyter-widgets/controls",
            "_model_module_version": "1.5.0",
            "_model_name": "DescriptionStyleModel",
            "_view_count": null,
            "_view_module": "@jupyter-widgets/base",
            "_view_module_version": "1.2.0",
            "_view_name": "StyleView",
            "description_width": ""
          }
        }
      }
    }
  },
  "cells": [
    {
      "cell_type": "code",
      "source": [
        "!pip install implicit"
      ],
      "metadata": {
        "colab": {
          "base_uri": "https://localhost:8080/"
        },
        "id": "-l-pWMZRgU6T",
        "outputId": "9b435e7f-8751-4b23-bba6-a7bb99394bf4"
      },
      "execution_count": 2,
      "outputs": [
        {
          "output_type": "stream",
          "name": "stdout",
          "text": [
            "Collecting implicit\n",
            "  Downloading implicit-0.7.2-cp311-cp311-manylinux2014_x86_64.whl.metadata (6.1 kB)\n",
            "Requirement already satisfied: numpy>=1.17.0 in /usr/local/lib/python3.11/dist-packages (from implicit) (2.0.2)\n",
            "Requirement already satisfied: scipy>=0.16 in /usr/local/lib/python3.11/dist-packages (from implicit) (1.15.3)\n",
            "Requirement already satisfied: tqdm>=4.27 in /usr/local/lib/python3.11/dist-packages (from implicit) (4.67.1)\n",
            "Requirement already satisfied: threadpoolctl in /usr/local/lib/python3.11/dist-packages (from implicit) (3.6.0)\n",
            "Downloading implicit-0.7.2-cp311-cp311-manylinux2014_x86_64.whl (8.9 MB)\n",
            "\u001b[2K   \u001b[90m━━━━━━━━━━━━━━━━━━━━━━━━━━━━━━━━━━━━━━━━\u001b[0m \u001b[32m8.9/8.9 MB\u001b[0m \u001b[31m51.0 MB/s\u001b[0m eta \u001b[36m0:00:00\u001b[0m\n",
            "\u001b[?25hInstalling collected packages: implicit\n",
            "Successfully installed implicit-0.7.2\n"
          ]
        }
      ]
    },
    {
      "cell_type": "code",
      "execution_count": 4,
      "metadata": {
        "id": "2rowpaOif1j7"
      },
      "outputs": [],
      "source": [
        "from typing import Dict, List, Sequence\n",
        "import scipy.sparse as sp\n",
        "import numpy as np\n",
        "from implicit.als import AlternatingLeastSquares\n",
        "\n",
        "UserLogs = Dict[str, Sequence[str]]\n",
        "\n",
        "def build_model(user_logs: UserLogs,\n",
        "                factors: int = 64, regularization: float = 0.01,\n",
        "                iterations: int = 20):\n",
        "    users = list(user_logs.keys())\n",
        "    books = sorted({b for bl in user_logs.values() for b in bl})\n",
        "    uid = {u: i for i, u in enumerate(users)}\n",
        "    bid = {b: i for i, b in enumerate(books)}\n",
        "\n",
        "    rows, cols, data = [], [], []\n",
        "    for u, books_read in user_logs.items():\n",
        "        for b in books_read:\n",
        "            rows.append(uid[u])\n",
        "            cols.append(bid[b])\n",
        "            data.append(1.0)\n",
        "    mat = sp.csr_matrix((data, (rows, cols)),\n",
        "                        shape=(len(users), len(books)))\n",
        "\n",
        "    model = AlternatingLeastSquares(factors=factors,\n",
        "                                    regularization=regularization,\n",
        "                                    iterations=iterations)\n",
        "    model.fit(mat.T)\n",
        "\n",
        "    return model, bid, books\n",
        "\n",
        "def recommend(model, bid: Dict[str, int], books: List[str],\n",
        "              input_titles: Sequence[str], top_k: int = 5) -> List[str]:\n",
        "    import numpy as np\n",
        "    if not input_titles:\n",
        "        raise ValueError(\"input_titles пусто\")\n",
        "\n",
        "    ids = [bid[t] for t in input_titles if t in bid]\n",
        "    if not ids:\n",
        "        raise KeyError(\"Нет совпадений во входных названиях\")\n",
        "\n",
        "    user_vec = np.add.reduce([model.item_factors[i] for i in ids])\n",
        "    sims = model.item_factors @ user_vec\n",
        "    ranked = sorted(((score, i) for i, score in enumerate(sims)),\n",
        "                    reverse=True)\n",
        "\n",
        "    res = []\n",
        "    for score, idx in ranked:\n",
        "        title = books[idx]\n",
        "        if title not in input_titles:\n",
        "            res.append(title)\n",
        "        if len(res) == top_k:\n",
        "            break\n",
        "    return res\n"
      ]
    },
    {
      "cell_type": "code",
      "source": [
        "logs = {\n",
        "        \"u1\": [\"Дюна – Фрэнк Герберт\", \"451° по Фаренгейту – Рэй Брэдбери\"],\n",
        "        \"u2\": [\"Дюнкерк – Антони Бивор\", \"Убить пересмешника – Харпер Ли\"],\n",
        "        \"u3\": [\"Гарри Поттер и философский камень – Дж. К. Роулинг\",\n",
        "               \"Перси Джексон и похититель молний – Рик Риордан\"],\n",
        "        \"u4\": [\"Дюна – Фрэнк Герберт\", \"Властелин колец – Дж. Р. Р. Толкин\"],\n",
        "    }\n",
        "model, bid, books = build_model(logs)\n",
        "print(recommend(model, bid, books, [\"Дюна – Фрэнк Герберт\"], 5))"
      ],
      "metadata": {
        "colab": {
          "base_uri": "https://localhost:8080/",
          "height": 121,
          "referenced_widgets": [
            "da8bbc11e46f4391a6530051435351ea",
            "9192cd89c5b3467283101a99c4360063",
            "6f9f4c85295642f7ac0e7a84fcd28ca1",
            "e46c2cb405ed48fc9226861144aa5601",
            "f3eb5f02a9d947b98b51a76ee6970b93",
            "822bf8b533a1466abe0ddb42edf8c5b3",
            "c175333f4dfa47c4b81f79c9917d71b8",
            "4d902b0139474073b6f162eecdb3667b",
            "b3654a7088194448a81fe2500efb7d73",
            "e53612939a404a66855093bbc3a3a1a4",
            "d0e84ad704814740bdb900aafd65f079"
          ]
        },
        "id": "ZUICHktQgxvI",
        "outputId": "64b9adb3-d1e1-43c0-f297-80f05fc62d3b"
      },
      "execution_count": 5,
      "outputs": [
        {
          "output_type": "stream",
          "name": "stderr",
          "text": [
            "/usr/local/lib/python3.11/dist-packages/implicit/utils.py:164: ParameterWarning: Method expects CSR input, and was passed csc_matrix instead. Converting to CSR took 0.00011801719665527344 seconds\n",
            "  warnings.warn(\n"
          ]
        },
        {
          "output_type": "display_data",
          "data": {
            "text/plain": [
              "  0%|          | 0/20 [00:00<?, ?it/s]"
            ],
            "application/vnd.jupyter.widget-view+json": {
              "version_major": 2,
              "version_minor": 0,
              "model_id": "da8bbc11e46f4391a6530051435351ea"
            }
          },
          "metadata": {}
        },
        {
          "output_type": "stream",
          "name": "stdout",
          "text": [
            "['Гарри Поттер и философский камень – Дж. К. Роулинг', '451° по Фаренгейту – Рэй Брэдбери', 'Властелин колец – Дж. Р. Р. Толкин']\n"
          ]
        }
      ]
    }
  ]
}